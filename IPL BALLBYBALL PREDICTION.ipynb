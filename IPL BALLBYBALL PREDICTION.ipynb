{
 "cells": [
  {
   "cell_type": "code",
   "execution_count": 1,
   "id": "4beb2923",
   "metadata": {},
   "outputs": [
    {
     "data": {
      "text/html": [
       "<div>\n",
       "<style scoped>\n",
       "    .dataframe tbody tr th:only-of-type {\n",
       "        vertical-align: middle;\n",
       "    }\n",
       "\n",
       "    .dataframe tbody tr th {\n",
       "        vertical-align: top;\n",
       "    }\n",
       "\n",
       "    .dataframe thead th {\n",
       "        text-align: right;\n",
       "    }\n",
       "</style>\n",
       "<table border=\"1\" class=\"dataframe\">\n",
       "  <thead>\n",
       "    <tr style=\"text-align: right;\">\n",
       "      <th></th>\n",
       "      <th>inning</th>\n",
       "      <th>over</th>\n",
       "      <th>ball</th>\n",
       "      <th>batsman_runs</th>\n",
       "      <th>total_runs</th>\n",
       "    </tr>\n",
       "  </thead>\n",
       "  <tbody>\n",
       "    <tr>\n",
       "      <th>0</th>\n",
       "      <td>1</td>\n",
       "      <td>6</td>\n",
       "      <td>5</td>\n",
       "      <td>1</td>\n",
       "      <td>1</td>\n",
       "    </tr>\n",
       "    <tr>\n",
       "      <th>1</th>\n",
       "      <td>1</td>\n",
       "      <td>6</td>\n",
       "      <td>6</td>\n",
       "      <td>1</td>\n",
       "      <td>1</td>\n",
       "    </tr>\n",
       "    <tr>\n",
       "      <th>2</th>\n",
       "      <td>1</td>\n",
       "      <td>7</td>\n",
       "      <td>1</td>\n",
       "      <td>0</td>\n",
       "      <td>0</td>\n",
       "    </tr>\n",
       "    <tr>\n",
       "      <th>3</th>\n",
       "      <td>1</td>\n",
       "      <td>7</td>\n",
       "      <td>2</td>\n",
       "      <td>1</td>\n",
       "      <td>1</td>\n",
       "    </tr>\n",
       "    <tr>\n",
       "      <th>4</th>\n",
       "      <td>1</td>\n",
       "      <td>7</td>\n",
       "      <td>3</td>\n",
       "      <td>1</td>\n",
       "      <td>1</td>\n",
       "    </tr>\n",
       "    <tr>\n",
       "      <th>...</th>\n",
       "      <td>...</td>\n",
       "      <td>...</td>\n",
       "      <td>...</td>\n",
       "      <td>...</td>\n",
       "      <td>...</td>\n",
       "    </tr>\n",
       "    <tr>\n",
       "      <th>95</th>\n",
       "      <td>1</td>\n",
       "      <td>2</td>\n",
       "      <td>4</td>\n",
       "      <td>4</td>\n",
       "      <td>4</td>\n",
       "    </tr>\n",
       "    <tr>\n",
       "      <th>96</th>\n",
       "      <td>1</td>\n",
       "      <td>2</td>\n",
       "      <td>5</td>\n",
       "      <td>1</td>\n",
       "      <td>1</td>\n",
       "    </tr>\n",
       "    <tr>\n",
       "      <th>97</th>\n",
       "      <td>1</td>\n",
       "      <td>2</td>\n",
       "      <td>6</td>\n",
       "      <td>0</td>\n",
       "      <td>0</td>\n",
       "    </tr>\n",
       "    <tr>\n",
       "      <th>98</th>\n",
       "      <td>1</td>\n",
       "      <td>3</td>\n",
       "      <td>1</td>\n",
       "      <td>0</td>\n",
       "      <td>5</td>\n",
       "    </tr>\n",
       "    <tr>\n",
       "      <th>99</th>\n",
       "      <td>1</td>\n",
       "      <td>3</td>\n",
       "      <td>2</td>\n",
       "      <td>6</td>\n",
       "      <td>6</td>\n",
       "    </tr>\n",
       "  </tbody>\n",
       "</table>\n",
       "<p>100 rows × 5 columns</p>\n",
       "</div>"
      ],
      "text/plain": [
       "    inning  over  ball  batsman_runs  total_runs\n",
       "0        1     6     5             1           1\n",
       "1        1     6     6             1           1\n",
       "2        1     7     1             0           0\n",
       "3        1     7     2             1           1\n",
       "4        1     7     3             1           1\n",
       "..     ...   ...   ...           ...         ...\n",
       "95       1     2     4             4           4\n",
       "96       1     2     5             1           1\n",
       "97       1     2     6             0           0\n",
       "98       1     3     1             0           5\n",
       "99       1     3     2             6           6\n",
       "\n",
       "[100 rows x 5 columns]"
      ]
     },
     "execution_count": 1,
     "metadata": {},
     "output_type": "execute_result"
    }
   ],
   "source": [
    "# naive bayes algorithm\n",
    "import numpy as np\n",
    "import pandas as pd\n",
    "import matplotlib.pyplot as plt\n",
    "\n",
    "ipl=pd.read_csv(r\"C:\\Users\\HARI\\OneDrive\\Documents\\IPL Ball-by-Ball 2008-2020.csv\")\n",
    "ipl\n",
    "ipl.head(100)"
   ]
  },
  {
   "cell_type": "code",
   "execution_count": 2,
   "id": "2d399aa6",
   "metadata": {},
   "outputs": [
    {
     "data": {
      "text/plain": [
       "['inning', 'over', 'ball', 'batsman_runs', 'total_runs']"
      ]
     },
     "execution_count": 2,
     "metadata": {},
     "output_type": "execute_result"
    }
   ],
   "source": [
    "ipl.columns=['inning','over','ball','batsman_runs','total_runs']\n",
    "\n",
    "col_names=list(ipl.columns)\n",
    "col_names"
   ]
  },
  {
   "cell_type": "code",
   "execution_count": 3,
   "id": "f98b0492",
   "metadata": {},
   "outputs": [
    {
     "name": "stdout",
     "output_type": "stream",
     "text": [
      "['inning', 'over', 'ball', 'batsman_runs']\n",
      "total_runs\n"
     ]
    }
   ],
   "source": [
    "X=col_names[0:4]\n",
    "y=col_names[4]\n",
    "print(X) \n",
    "print(y) "
   ]
  },
  {
   "cell_type": "code",
   "execution_count": 4,
   "id": "e8971978",
   "metadata": {},
   "outputs": [
    {
     "name": "stdout",
     "output_type": "stream",
     "text": [
      "training input samples: 154774\n",
      "testing input samples: 38694\n"
     ]
    }
   ],
   "source": [
    "\n",
    "from sklearn.model_selection import train_test_split\n",
    "train,test=train_test_split(ipl,test_size=0.20,random_state=1)\n",
    "\n",
    "print('training input samples:',len(train))\n",
    "print('testing input samples:',len(test))"
   ]
  },
  {
   "cell_type": "code",
   "execution_count": 5,
   "id": "25cfaf00",
   "metadata": {},
   "outputs": [],
   "source": [
    "############# Naive Bayes ############\n",
    "\n",
    "# Guassian Naive Bayes\n",
    "\n",
    "from sklearn.naive_bayes import GaussianNB # importation\n",
    "Gmodel=GaussianNB() # invocation"
   ]
  },
  {
   "cell_type": "code",
   "execution_count": 6,
   "id": "ab9d4e5f",
   "metadata": {},
   "outputs": [],
   "source": [
    "Gmodel.fit(train[X],train[y])\n",
    "\n",
    "train_Gpred=Gmodel.predict(train[X]) # train[x]\n",
    "\n",
    "test_Gpred=Gmodel.predict(test[X]) # test[x] \n"
   ]
  },
  {
   "cell_type": "code",
   "execution_count": 7,
   "id": "3cf02422",
   "metadata": {},
   "outputs": [
    {
     "name": "stdout",
     "output_type": "stream",
     "text": [
      "gaussian naive bayes - training accuracy: 94.32592037422306 %\n",
      "gaussian nb - testing time accuracy: 94.50302372460847 %\n"
     ]
    }
   ],
   "source": [
    "train_acc_gau=np.mean(train_Gpred==train[y])\n",
    "\n",
    "test_acc_gau=np.mean(test_Gpred==test[y])\n",
    "\n",
    "print('gaussian naive bayes - training accuracy:',train_acc_gau*100,'%')\n",
    "print('gaussian nb - testing time accuracy:',test_acc_gau*100,'%')\n"
   ]
  },
  {
   "cell_type": "code",
   "execution_count": null,
   "id": "3eb15a12",
   "metadata": {},
   "outputs": [],
   "source": []
  },
  {
   "cell_type": "code",
   "execution_count": null,
   "id": "b987a889",
   "metadata": {},
   "outputs": [],
   "source": []
  },
  {
   "cell_type": "code",
   "execution_count": null,
   "id": "0ac834a2",
   "metadata": {},
   "outputs": [],
   "source": []
  }
 ],
 "metadata": {
  "kernelspec": {
   "display_name": "Python 3 (ipykernel)",
   "language": "python",
   "name": "python3"
  },
  "language_info": {
   "codemirror_mode": {
    "name": "ipython",
    "version": 3
   },
   "file_extension": ".py",
   "mimetype": "text/x-python",
   "name": "python",
   "nbconvert_exporter": "python",
   "pygments_lexer": "ipython3",
   "version": "3.9.12"
  }
 },
 "nbformat": 4,
 "nbformat_minor": 5
}
